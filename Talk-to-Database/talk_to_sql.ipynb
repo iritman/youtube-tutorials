{
 "cells": [
  {
   "cell_type": "markdown",
   "metadata": {},
   "source": [
    "# <span style='color:#FF8C42'>Talk to Database</span>\n",
    "\n",
    "This notebook provides a user interface to convert natural language into SQL queries. Using this program, you can ask your questions in natural language, receive the equivalent SQL query, and view the results.\n",
    "\n",
    "## <span style='color:#42c5f5'>Requirements</span>\n",
    "\n",
    "- Python 3.x\n",
    "- pyodbc library for connecting to SQL Server\n",
    "- Access to the OpenRouter API to use language models\n"
   ]
  },
  {
   "cell_type": "markdown",
   "metadata": {},
   "source": [
    "## <span style='color:#42c5f5'>Author</span>\n",
    "\n",
    "<img src=\"https://media.licdn.com/dms/image/v2/D5603AQEO0rQI1tVtYg/profile-displayphoto-shrink_200_200/profile-displayphoto-shrink_200_200/0/1712605211628?e=1759968000&v=beta&t=KBza-Ntnrj5lQMpTZwBLY1HaeKK6QRsRRHadJmEsra0\" \n",
    "     alt=\"Profile Picture\" \n",
    "     style=\"width:150px; height:150px; border-radius:50%; object-fit:cover;\"/>\n",
    "     \n",
    "### <span style='color:#4bc1a5'>Naiem Yousefifard</span>\n",
    "**AI Engineer | Building Scalable AI-Powered Apps & Automation**\n",
    "\n",
    "- LinkedIn: https://www.linkedin.com/in/naiem-yousefifard-11086729b\n",
    "- GitHub: https://github.com/iritman\n",
    "- YouTube: https://www.youtube.com/@naiemyf7296\n",
    "- Email: iritman@gmail.com"
   ]
  },
  {
   "cell_type": "markdown",
   "metadata": {},
   "source": [
    "## <span style='color:#42c5f5'>Import required libraries</span>\n",
    "\n",
    "First, we import the libraries required to run the program."
   ]
  },
  {
   "cell_type": "code",
   "execution_count": null,
   "metadata": {},
   "outputs": [],
   "source": [
    "import os\n",
    "import pyodbc\n",
    "import json\n",
    "import requests\n",
    "from typing import List, Dict, Union"
   ]
  },
  {
   "cell_type": "markdown",
   "metadata": {},
   "source": [
    "## <span style='color:#42c5f5'>Helper functions</span>\n",
    "\n",
    "In this section, we define helper functions for clearing the screen and printing the application header."
   ]
  },
  {
   "cell_type": "code",
   "execution_count": null,
   "metadata": {},
   "outputs": [],
   "source": [
    "def clear_screen():\n",
    "    \"\"\"Clear the terminal screen\"\"\"\n",
    "    os.system('cls' if os.name == 'nt' else 'clear')\n",
    "\n",
    "def print_header():\n",
    "    \"\"\"Display the application header\"\"\"\n",
    "    clear_screen()\n",
    "    print(\"=\"*80)\n",
    "    print(\"                           TALK TO SQL                           \")\n",
    "    print(\"                Natural Language to SQL Query Tool               \")\n",
    "    print(\"=\"*80)\n",
    "    print(\"\\nConnect to your SQL Server database using natural language prompts.\")\n",
    "    print(\"Type 'exit' or 'quit' to exit the application.\\n\")"
   ]
  },
  {
   "cell_type": "markdown",
   "metadata": {},
   "source": [
    "## <span style='color:#42c5f5'>OpenRouterClient class</span>\n",
    "\n",
    "This class is used to communicate with the OpenRouter API and leverage language models to convert natural language into SQL queries."
   ]
  },
  {
   "cell_type": "code",
   "execution_count": null,
   "metadata": {},
   "outputs": [],
   "source": [
    "class OpenRouterClient:\n",
    "    \"\"\"Class for communicating with the OpenRouter API\"\"\"\n",
    "    \n",
    "    def __init__(self, api_key: str, model: str):\n",
    "        self.api_key = api_key\n",
    "        self.model = model\n",
    "        self.base_url = \"https://openrouter.ai/api/v1/chat/completions\"\n",
    "    \n",
    "    def invoke(self, prompt: Union[str, Dict, List[Dict]], **kwargs) -> str:\n",
    "        # Convert the prompt to messages format\n",
    "        if isinstance(prompt, str):\n",
    "            messages = [{\"role\": \"user\", \"content\": prompt}]\n",
    "        elif isinstance(prompt, dict):\n",
    "            messages = [prompt]\n",
    "        else:\n",
    "            messages = prompt\n",
    "        \n",
    "        # Send a request to the OpenRouter API\n",
    "        response = requests.post(\n",
    "            url=self.base_url,\n",
    "            headers={\n",
    "                \"Authorization\": f\"Bearer {self.api_key}\",\n",
    "                \"Content-Type\": \"application/json\",\n",
    "            },\n",
    "            json={\n",
    "                \"model\": self.model,\n",
    "                \"messages\": messages,\n",
    "            }\n",
    "        )\n",
    "        \n",
    "        # Check for errors\n",
    "        if response.status_code != 200:\n",
    "            raise Exception(f\"OpenRouter API error: {response.status_code} - {response.text}\")\n",
    "        \n",
    "        # Process the response\n",
    "        response_data = response.json()\n",
    "        content = response_data.get(\"choices\", [{}])[0].get(\"message\", {}).get(\"content\", \"\")\n",
    "        \n",
    "        return content"
   ]
  },
  {
   "cell_type": "markdown",
   "metadata": {},
   "source": [
    "## <span style='color:#42c5f5'>Database and OpenRouter API connection settings</span>\n",
    "\n",
    "In this section, we configure the connection to the SQL Server database and the OpenRouter API."
   ]
  },
  {
   "cell_type": "code",
   "execution_count": null,
   "metadata": {},
   "outputs": [],
   "source": [
    "# Database connection settings\n",
    "server_name = \"LEGION5\"  # Enter your SQL Server name here\n",
    "database_name = \"SampleDB\"  # Enter your database name here\n",
    "\n",
    "# OpenRouter API settings\n",
    "api_key = \"sk-or-v1-xxxxxx\"  # Enter your API key here\n",
    "model_name = \"qwen/qwq-32b:free\"  # Enter your desired model name here"
   ]
  },
  {
   "cell_type": "markdown",
   "metadata": {},
   "source": [
    "## <span style='color:#42c5f5'>Connect to SQL Server database</span>\n",
    "\n",
    "In this section, we connect to the SQL Server database and retrieve the database schema information."
   ]
  },
  {
   "cell_type": "code",
   "execution_count": null,
   "metadata": {},
   "outputs": [],
   "source": [
    "print_header()\n",
    "print(\"\\nConnecting to database...\")\n",
    "\n",
    "# Create the connection string\n",
    "connection_string = f\"DRIVER={{SQL Server}};SERVER={server_name};DATABASE={database_name};Trusted_Connection=yes;\"\n",
    "\n",
    "try:\n",
    "    # Connect to the database\n",
    "    conn = pyodbc.connect(connection_string)\n",
    "    cursor = conn.cursor()\n",
    "    \n",
    "    # Retrieve database schema information\n",
    "    tables = []\n",
    "    for table in cursor.tables(tableType='TABLE'):\n",
    "        if table.table_schem == 'dbo':\n",
    "            table_name = table.table_name\n",
    "            tables.append(table_name)\n",
    "            \n",
    "    # Retrieve schema details for each table\n",
    "    schema_info = []\n",
    "    for table_name in tables:\n",
    "        columns = []\n",
    "        for column in cursor.columns(table=table_name):\n",
    "            column_name = column.column_name\n",
    "            data_type = column.type_name\n",
    "            columns.append(f\"{column_name} ({data_type})\")\n",
    "        schema_info.append(f\"Table: {table_name}\\nColumns: {', '.join(columns)}\")\n",
    "        \n",
    "    schema_text = \"\\n\\n\".join(schema_info)\n",
    "    print(\"✅ Successfully connected to database.\")\n",
    "    \n",
    "    # Display database schema information\n",
    "    print(\"\\nDatabase Schema Information:\")\n",
    "    print(\"-\" * 80)\n",
    "    print(schema_text)\n",
    "    print(\"-\" * 80)\n",
    "except Exception as e:\n",
    "    print(f\"\\n❌ Failed to connect to the database: {str(e)}\")"
   ]
  },
  {
   "cell_type": "markdown",
   "metadata": {},
   "source": [
    "## <span style='color:#42c5f5'>Connect to the OpenRouter API</span>\n",
    "\n",
    "In this section, we connect to the OpenRouter API so we can use language models to convert natural language into SQL queries."
   ]
  },
  {
   "cell_type": "code",
   "execution_count": null,
   "metadata": {},
   "outputs": [],
   "source": [
    "print(\"\\nConnecting to OpenRouter API...\")\n",
    "try:\n",
    "    # Create the OpenRouter client\n",
    "    llm = OpenRouterClient(api_key=api_key, model=model_name)\n",
    "    print(\"✅ Successfully connected to OpenRouter API.\")\n",
    "except Exception as e:\n",
    "    print(f\"\\n❌ Failed to connect to OpenRouter API: {str(e)}\")"
   ]
  },
  {
   "cell_type": "markdown",
   "metadata": {},
   "source": [
    "## <span style='color:#42c5f5'>Define the system prompt for generating SQL queries</span>\n",
    "\n",
    "In this section, we define the system prompt for generating SQL queries. The prompt includes the database schema information and the necessary instructions to generate SQL queries."
   ]
  },
  {
   "cell_type": "code",
   "execution_count": null,
   "metadata": {},
   "outputs": [],
   "source": [
    "# Create the system prompt for generating SQL queries\n",
    "sql_system_prompt = \"\"\"You are an expert SQL query generator in the SQL Server (T-SQL) database. \n",
    "Your task is to convert natural language questions into SQL queries. \n",
    "\n",
    "Here is the database schema information:\n",
    "{schema}\n",
    "\n",
    "EXTREMELY IMPORTANT: You MUST return ONLY a valid JSON object with the following structure and nothing else:\n",
    "{{\n",
    "    \"query\": \"YOUR SQL QUERY HERE\"\n",
    "}}\n",
    "\n",
    "The query should be valid for SQL Server (T-SQL).\n",
    "IMPORTANT: SQL Server does not support LIMIT keyword. Use TOP instead.\n",
    "\n",
    "DO NOT include any explanations, markdown formatting, or additional text outside the JSON structure.\n",
    "DO NOT use code blocks (```json) around your response.\n",
    "DO NOT include any thinking, reasoning, or explanations in your response.\n",
    "DO NOT include any text before or after the JSON object.\n",
    "ONLY return the JSON object with the query field.\n",
    "ENSURE your response is a complete, valid JSON object that can be parsed directly.\n",
    "\"\"\""
   ]
  },
  {
   "cell_type": "markdown",
   "metadata": {},
   "source": [
    "## <span style='color:#42c5f5'>Function to process the user's question and generate a SQL query</span>\n",
    "\n",
    "This function receives the user's question and, using the OpenRouter API, generates the equivalent SQL query."
   ]
  },
  {
   "cell_type": "code",
   "execution_count": null,
   "metadata": {},
   "outputs": [],
   "source": [
    "def process_user_question(question: str, llm: OpenRouterClient, schema_text: str, sql_system_prompt: str) -> str:\n",
    "    \"\"\"Process the user's question and generate a SQL query\"\"\"\n",
    "    print(\"\\nProcessing your request...\")\n",
    "\n",
    "    try:\n",
    "        # Generate the SQL query using the OpenRouter API\n",
    "        sql_messages = [\n",
    "            {\"role\": \"system\", \"content\": sql_system_prompt.format(schema=schema_text)},\n",
    "            {\"role\": \"user\", \"content\": question}\n",
    "        ]\n",
    "        sql_response = llm.invoke(sql_messages)\n",
    "        sql_response = sql_response.strip()\n",
    "\n",
    "        # Try to find the last JSON block in the response text\n",
    "        last_open_brace = sql_response.rfind(\"{\")\n",
    "        last_close_brace = sql_response.rfind(\"}\")\n",
    "        sql_query = sql_response  # fallback to full response text\n",
    "\n",
    "        if last_open_brace != -1 and last_close_brace > last_open_brace:\n",
    "            json_str = sql_response[last_open_brace:last_close_brace+1]\n",
    "            try:\n",
    "                response_json = json.loads(json_str)\n",
    "                sql_query = response_json.get(\"query\", sql_query).strip()\n",
    "            except json.JSONDecodeError:\n",
    "                print(\"⚠️ Warning: Could not parse JSON. Using raw response as fallback.\")\n",
    "\n",
    "        # Remove extra whitespace\n",
    "        sql_query = sql_query.strip()\n",
    "        return sql_query\n",
    "\n",
    "    except Exception as e:\n",
    "        print(f\"\\n❌ An error occurred while processing your request: {str(e)}\")\n",
    "        return None"
   ]
  },
  {
   "cell_type": "markdown",
   "metadata": {},
   "source": [
    "## <span style='color:#42c5f5'>Function to execute the SQL query and display results</span>\n",
    "\n",
    "This function executes the SQL query and displays the results as JSON."
   ]
  },
  {
   "cell_type": "code",
   "execution_count": null,
   "metadata": {},
   "outputs": [],
   "source": [
    "import pandas as pd\n",
    "\n",
    "def execute_query_and_show_results(sql_query: str, cursor: pyodbc.Cursor) -> None:\n",
    "    \"\"\"Execute the SQL query and display results\"\"\"\n",
    "    if not sql_query:\n",
    "        return\n",
    "\n",
    "    # Print the generated SQL query\n",
    "    print(\"\\n✅ Generated SQL Query:\")\n",
    "    print(\"-\" * 80)\n",
    "    print(sql_query)\n",
    "    print(\"-\" * 80)\n",
    "\n",
    "    try:\n",
    "        # Execute the query\n",
    "        cursor.execute(sql_query)\n",
    "\n",
    "        # Extract column names (replace empty ones with \"Data\")\n",
    "        columns = [col[0] if col[0] else \"Data\" for col in cursor.description]\n",
    "\n",
    "        # Fetch all rows\n",
    "        rows = cursor.fetchall()\n",
    "\n",
    "        # Convert to Pandas DataFrame\n",
    "        df = pd.DataFrame.from_records(rows, columns=columns)\n",
    "\n",
    "        print(\"\\n📊 Query Results:\")\n",
    "        print(\"-\" * 80)\n",
    "        print(df.to_string(index=False))\n",
    "        print(\"-\" * 80)\n",
    "\n",
    "    except Exception as e:\n",
    "        # Print error if query execution fails\n",
    "        print(f\"\\n❌ Error executing query: {str(e)}\")"
   ]
  },
  {
   "cell_type": "markdown",
   "metadata": {},
   "source": [
    "## <span style='color:#42c5f5'>Main program loop</span>\n",
    "\n",
    "In this section, we run the main program loop, which receives the user's questions, generates the equivalent SQL query, and displays the results."
   ]
  },
  {
   "cell_type": "code",
   "execution_count": null,
   "metadata": {
    "editable": true,
    "slideshow": {
     "slide_type": ""
    },
    "tags": []
   },
   "outputs": [],
   "source": [
    "# Main program loop\n",
    "try:\n",
    "    while True:\n",
    "        print(\"\\n\" + \"-\"*80)\n",
    "        print(\"\\n🔍 Enter your question or command:\")\n",
    "        print(\"   - Type 'exit' or 'quit' to exit\")\n",
    "        question = input(\"\\n> \")\n",
    "        \n",
    "        if question.lower() in [\"exit\", \"quit\"]:\n",
    "            break\n",
    "            \n",
    "        if not question.strip():\n",
    "            continue\n",
    "        \n",
    "        # Process the user's question and generate the SQL query\n",
    "        sql_query = process_user_question(question, llm, schema_text, sql_system_prompt)\n",
    "        \n",
    "        # Execute the SQL query and display the results\n",
    "        execute_query_and_show_results(sql_query, cursor)\n",
    "        \n",
    "except KeyboardInterrupt:\n",
    "    print(\"\\n\\nProgram interrupted by user. Exiting...\")\n",
    "except Exception as e:\n",
    "    print(f\"\\n❌ An unexpected error occurred: {str(e)}\")\n",
    "finally:\n",
    "    print(\"\\nThank you for using TalkToSQL!\")"
   ]
  },
  {
   "cell_type": "markdown",
   "metadata": {},
   "source": [
    "## <span style='color:#42c5f5'>Usage examples</span>\n",
    "\n",
    "In this section, we present a few example questions and their equivalent SQL queries."
   ]
  },
  {
   "cell_type": "markdown",
   "metadata": {},
   "source": [
    "### <span style='color:#42d5b5'>Example 1: Retrieve all members</span>\n",
    "\n",
    "Question: Show the list of all members\n",
    "\n",
    "SQL query:\n",
    "```sql\n",
    "SELECT * FROM Members\n",
    "```"
   ]
  },
  {
   "cell_type": "markdown",
   "metadata": {},
   "source": [
    "### <span style='color:#42d5b5'>Example 2: Retrieve members with a specific condition</span>\n",
    "\n",
    "Question: Show members older than 30 years\n",
    "\n",
    "SQL query:\n",
    "```sql\n",
    "SELECT * FROM Members WHERE Age > 30\n",
    "```"
   ]
  },
  {
   "cell_type": "markdown",
   "metadata": {},
   "source": [
    "### <span style='color:#42d5b5'>Example 3: Retrieving Information with Table Joins</span>\n",
    "\n",
    "Question: Show a list of all courses each member has enrolled in\n",
    "\n",
    "SQL query:\n",
    "```sql\n",
    "SELECT m.FirstName, m.LastName, c.CourseName\n",
    "FROM Members m\n",
    "JOIN Enrollments e ON m.MemberID = e.MemberID\n",
    "JOIN Courses c ON e.CourseID = c.CourseID\n",
    "ORDER BY m.LastName, m.FirstName\n",
    "```"
   ]
  }
 ],
 "metadata": {
  "kernelspec": {
   "display_name": "Python 3 (ipykernel)",
   "language": "python",
   "name": "python3"
  },
  "language_info": {
   "codemirror_mode": {
    "name": "ipython",
    "version": 3
   },
   "file_extension": ".py",
   "mimetype": "text/x-python",
   "name": "python",
   "nbconvert_exporter": "python",
   "pygments_lexer": "ipython3",
   "version": "3.12.0"
  }
 },
 "nbformat": 4,
 "nbformat_minor": 4
}
